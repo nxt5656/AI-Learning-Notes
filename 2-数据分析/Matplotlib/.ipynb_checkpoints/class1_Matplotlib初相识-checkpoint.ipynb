{
 "cells": [
  {
   "cell_type": "markdown",
   "id": "c6e7328e2c6dae4f",
   "metadata": {},
   "source": [
    "# 一. 认识matplotlib\n",
    "Matplotlib是一个Python 2D绘图库，能够以多种硬拷贝格式和跨平台的交互式环境生成出版物质量的图形，用来绘制各种静态，动态，交互式的图表。\n",
    "\n",
    "Matplotlib可用于Python脚本，Python和IPython Shell、Jupyter notebook，Web应用程序服务器和各种图形用户界面工具包等。\n",
    "\n",
    "Matplotlib是Python数据可视化库中的泰斗，它已经成为python中公认的数据可视化工具，我们所熟知的pandas和seaborn的绘图接口其实也是基于matplotlib所作的高级封装。\n",
    "\n",
    "为了对matplotlib有更好的理解，让我们从一些最基本的概念开始认识它，再逐渐过渡到一些高级技巧中。"
   ]
  },
  {
   "cell_type": "markdown",
   "id": "70dc228b-3906-4b64-86aa-797750ac17fd",
   "metadata": {},
   "source": [
    "# 二. 一个最简单的绘图例子¶\n",
    "Matplotlib的图像是画在figure（如windows，jupyter窗体）上的，每一个figure又包含了一个或多个axes（一个可以指定坐标系的子区域）。最简单的创建figure以及axes的方式是通过pyplot.subplots命令，创建axes以后，可以使用Axes.plot绘制最简易的折线图。"
   ]
  },
  {
   "cell_type": "code",
   "execution_count": null,
   "id": "43e979d1-bba3-470f-9931-271e43c24e6b",
   "metadata": {
    "ExecuteTime": {
     "end_time": "2025-02-25T08:16:59.261001Z",
     "start_time": "2025-02-25T08:16:59.163626Z"
    },
    "editable": true,
    "slideshow": {
     "slide_type": ""
    },
    "tags": []
   },
   "outputs": [],
   "source": [
    "import matplotlib.pyplot as plt\n",
    "import numpy as np"
   ]
  },
  {
   "cell_type": "code",
   "execution_count": null,
   "id": "6707de3b-6026-4015-bdda-0c8ce9d28da0",
   "metadata": {},
   "outputs": [],
   "source": [
    "fig, ax = plt.subplots()  # 创建一个包含一个axes的figure\n",
    "ax.plot([1, 2, 3, 4,5,5.5,6], [1, 4, 2, 3,0.1,0.2,1])  # 绘制图像"
   ]
  },
  {
   "cell_type": "markdown",
   "id": "daf9aea4-4516-4d94-8cf6-2e22512a593a",
   "metadata": {},
   "source": [
    "和MATLAB命令类似，你还可以通过一种更简单的方式绘制图像，matplotlib.pyplot方法能够直接在当前axes上绘制图像，如果用户未指定axes，matplotlib会帮你自动创建一个。所以上面的例子也可以简化为以下这一行代码"
   ]
  },
  {
   "cell_type": "code",
   "execution_count": null,
   "id": "4c028cec-5b0e-4225-8222-d01af64d2b17",
   "metadata": {
    "ExecuteTime": {
     "end_time": "2025-02-25T08:17:33.577718Z",
     "start_time": "2025-02-25T08:17:33.481710Z"
    },
    "editable": true,
    "slideshow": {
     "slide_type": ""
    },
    "tags": []
   },
   "outputs": [],
   "source": [
    "plt.plot([1, 2, 3, 4], [1, 4, 2, 3])"
   ]
  },
  {
   "cell_type": "markdown",
   "id": "980efd9a-704c-49c1-9b0a-e6b0f7da7044",
   "metadata": {},
   "source": [
    "# 三. Figure的组成"
   ]
  },
  {
   "cell_type": "markdown",
   "id": "50a3b587-ade4-4c21-80b0-526403d6f2fe",
   "metadata": {},
   "source": [
    "现在我们来深入看一下figure的组成。通过一张figure解剖图，我们可以看到一个完整的matplotlib图像通常会包括以下四个层级，这些层级也被称为容器（container），下一节会详细介绍。在matplotlib的世界中，我们将通过各种命令方法来操纵图像中的每一个部分，从而达到数据可视化的最终效果，一副完整的图像实际上是各类子元素的集合。\n",
    "\n",
    "Figure：顶层级，用来容纳所有绘图元素\n",
    "\n",
    "Axes：matplotlib宇宙的核心，容纳了大量元素用来构造一幅幅子图，一个figure可以由一个或多个子图组成\n",
    "\n",
    "Axis：axes的下属层级，用于处理所有和坐标轴，网格有关的元素\n",
    "\n",
    "Tick：axis的下属层级，用来处理所有和刻度有关的元素"
   ]
  },
  {
   "cell_type": "markdown",
   "id": "4b7af229-13c4-41e5-a1c1-4beb2a8547fd",
   "metadata": {},
   "source": [
    "# 四、两种绘图接口"
   ]
  },
  {
   "cell_type": "markdown",
   "id": "faf34d9c-c014-427d-9ab7-284215c7b570",
   "metadata": {},
   "source": [
    "matplotlib提供了两种最常用的绘图接口\n",
    "\n",
    "显式创建figure和axes，在上面调用绘图方法，也被称为OO模式（object-oriented style)\n",
    "\n",
    "依赖pyplot自动创建figure和axes，并绘图\n",
    "\n",
    "使用第一种绘图接口，是这样的："
   ]
  },
  {
   "cell_type": "code",
   "execution_count": null,
   "id": "5c604354-1fc2-4039-885f-0b4632b21aa4",
   "metadata": {},
   "outputs": [],
   "source": [
    "x = np.linspace(0, 2, 100)\n",
    "fig, ax = plt.subplots()  \n",
    "ax.plot(x, x, label='linear')  \n",
    "ax.plot(x, x**2, label='quadratic')  \n",
    "ax.plot(x, x**3, label='cubic')  \n",
    "ax.set_xlabel('x label') \n",
    "ax.set_ylabel('y label') \n",
    "ax.set_title(\"Simple Plot\")  \n",
    "ax.legend() "
   ]
  },
  {
   "cell_type": "markdown",
   "id": "47df5486-c847-4438-bcf1-0f3a5301ce27",
   "metadata": {},
   "source": [
    "而如果采用第二种绘图接口，绘制同样的图，代码是这样的："
   ]
  },
  {
   "cell_type": "code",
   "execution_count": null,
   "id": "9d99266a-5d3a-430e-b6b7-11d4a80b1dff",
   "metadata": {},
   "outputs": [],
   "source": [
    "x = np.linspace(0, 2, 100)\n",
    "\n",
    "plt.plot(x, x, label='linear') \n",
    "plt.plot(x, x**2, label='quadratic')  \n",
    "plt.plot(x, x**3, label='cubic')\n",
    "plt.xlabel('x label')\n",
    "plt.ylabel('y label')\n",
    "plt.title(\"Simple Plot\")\n",
    "plt.legend()"
   ]
  }
 ],
 "metadata": {
  "kernelspec": {
   "display_name": "Python_(zb-dev)",
   "language": "python",
   "name": "zb-dev"
  },
  "language_info": {
   "codemirror_mode": {
    "name": "ipython",
    "version": 3
   },
   "file_extension": ".py",
   "mimetype": "text/x-python",
   "name": "python",
   "nbconvert_exporter": "python",
   "pygments_lexer": "ipython3",
   "version": "3.12.9"
  }
 },
 "nbformat": 4,
 "nbformat_minor": 5
}
