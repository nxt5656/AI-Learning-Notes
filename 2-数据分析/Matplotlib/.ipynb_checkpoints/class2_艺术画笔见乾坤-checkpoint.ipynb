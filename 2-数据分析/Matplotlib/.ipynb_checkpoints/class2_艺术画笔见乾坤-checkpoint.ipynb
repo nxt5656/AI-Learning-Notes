{
 "cells": [
  {
   "cell_type": "markdown",
   "id": "6f7eb9b3-f5fd-4da5-a00a-4e90e630db12",
   "metadata": {
    "collapsed": true,
    "jupyter": {
     "outputs_hidden": true
    }
   },
   "source": [
    "# 一、概述¶\n",
    "## 1. matplotlib的三层api\n",
    "matplotlib的原理或者说基础逻辑是，用Artist对象在画布(canvas)上绘制(Render)图形。\n",
    "就和人作画的步骤类似：\n",
    "\n",
    "准备一块画布或画纸\n",
    "准备好颜料、画笔等制图工具\n",
    "作画\n",
    "所以matplotlib有三个层次的API：\n",
    "\n",
    "matplotlib.backend_bases.FigureCanvas 代表了绘图区，所有的图像都是在绘图区完成的\n",
    "matplotlib.backend_bases.Renderer 代表了渲染器，可以近似理解为画笔，控制如何在 FigureCanvas 上画图。\n",
    "matplotlib.artist.Artist 代表了具体的图表组件，即调用了Renderer的接口在Canvas上作图。\n",
    "前两者处理程序和计算机的底层交互的事项，第三项Artist就是具体的调用接口来做出我们想要的图，比如图形、文本、线条的设定。所以通常来说，我们95%的时间，都是用来和matplotlib.artist.Artist类打交道的。\n"
   ]
  },
  {
   "cell_type": "markdown",
   "id": "673140ec-d523-423f-acec-8949d616fedb",
   "metadata": {},
   "source": [
    "## 2. Artist的分类\n",
    "Artist有两种类型：primitives 和containers。\n",
    "primitive是基本要素，它包含一些我们要在绘图区作图用到的标准图形对象，如曲线Line2D，文字text，矩形Rectangle，图像image等。\n",
    "container是容器，即用来装基本要素的地方，包括图形figure、坐标系Axes和坐标轴Axis。他们之间的关系如下图所示："
   ]
  },
  {
   "cell_type": "markdown",
   "id": "5f1cd4fa-0d3d-43bc-98ce-4b3c0d14ab3b",
   "metadata": {},
   "source": [
    "## 3. matplotlib标准用法\n",
    "matplotlib的标准使用流程为：\n",
    "\n",
    "1. 创建一个Figure实例\n",
    "1. 使用Figure实例创建一个或者多个Axes或Subplot实例\n",
    "1. 使用Axes实例的辅助方法来创建primitive\n",
    "值得一提的是，Axes是一种容器，它可能是matplotlib API中最重要的类，并且我们大多数时间都花在和它打交道上。更具体的信息会在之后容器小节说明。\n",
    "\n",
    "一个流程示例及说明如下："
   ]
  },
  {
   "cell_type": "code",
   "execution_count": 1,
   "id": "e37dca5a-c0b5-41d8-909e-09bc485bc7cb",
   "metadata": {},
   "outputs": [
    {
     "data": {
      "image/png": "[encoded data removed]",
      "text/plain": [
       "<Figure size 640x480 with 1 Axes>"
      ]
     },
     "metadata": {},
     "output_type": "display_data"
    }
   ],
   "source": [
    "import matplotlib.pyplot as plt\n",
    "import numpy as np\n",
    "\n",
    "# step 1 \n",
    "# 我们用 matplotlib.pyplot.figure() 创建了一个Figure实例\n",
    "fig = plt.figure()\n",
    "\n",
    "# step 2\n",
    "# 然后用Figure实例创建了一个两行一列(即可以有两个subplot)的绘图区，并同时在第一个位置创建了一个subplot\n",
    "ax = fig.add_subplot(2, 1, 1) # two rows, one column, first plot\n",
    "\n",
    "# step 3\n",
    "# 然后用Axes实例的方法画了一条曲线\n",
    "t = np.arange(0.0, 1.0, 0.01)\n",
    "s = np.sin(2*np.pi*t)\n",
    "line, = ax.plot(t, s, color='blue', lw=2)"
   ]
  },
  {
   "cell_type": "markdown",
   "id": "77b4e3e1-142f-4a4c-bede-b9fbfe1772cc",
   "metadata": {},
   "source": [
    "# 二、自定义你的Artist对象¶\n",
    "1. Artist属性\n",
    "在图形中的每一个元素都对应着一个matplotlib Artist，且都有其对应的配置属性列表。\n",
    "\n",
    "Figure本身包含一个Rectangle，Rectangle的大小就是Figure的大小；你可以用来设置Figure的背景色和透明度。\n",
    "每个Axes边界框(默认白底黑边)，也有一个Rectangle，通过它可以设置Axes的颜色、透明度等。\n",
    "这些实例都存储在成员变量(member variables) Figure.patch 和 Axes.patch中。 （Patch是一个来源于MATLAB的名词，它是图形上颜色的一个2D补丁，包含rectangels-矩形，circles-圆 和 plygons-多边形）\n",
    "\n",
    "换个表达方式：\n",
    "Figure.patch属性：是一个Rectangle，代表了图表的矩形框，它的大小就是图表的大小， 并且可以通过它设置figure的背景色和透明度。\n",
    "Axes.patch属性：也是一个Rectangle，代表了绘图坐标轴内部的矩形框（白底黑边）， 通过它可以设置Axes的颜色、透明度等。\n",
    "\n",
    "每个matplotlib Artist都有以下属性：\n",
    "\n",
    ".alpha属性：透明度。值为0—1之间的浮点数\n",
    ".axes属性：返回这个Artist所属的axes，可能为None\n",
    ".figure属性：该Artist所属的Figure，可能为None\n",
    ".label：一个text label\n",
    ".visible：布尔值，控制Artist是否绘制\n",
    "这里仅列举几个常见的属性，更详细的属性清单请查阅官方文档： Artist属性列表"
   ]
  },
  {
   "cell_type": "code",
   "execution_count": 2,
   "id": "c14d370f-929d-4afc-87fa-ffcb27afe292",
   "metadata": {},
   "outputs": [
    {
     "data": {
      "text/plain": [
       "<matplotlib.patches.Rectangle at 0x7fcd4a1d1010>"
      ]
     },
     "execution_count": 2,
     "metadata": {},
     "output_type": "execute_result"
    },
    {
     "data": {
      "text/plain": [
       "<Figure size 640x480 with 0 Axes>"
      ]
     },
     "metadata": {},
     "output_type": "display_data"
    }
   ],
   "source": [
    "# .patch\n",
    "plt.figure().patch\n",
    "plt.axes().patch"
   ]
  },
  {
   "cell_type": "code",
   "execution_count": null,
   "id": "a99f80da-ab76-4077-a186-ed31dca32ceb",
   "metadata": {},
   "outputs": [],
   "source": []
  }
 ],
 "metadata": {
  "kernelspec": {
   "display_name": "Python_(zb-dev)",
   "language": "python",
   "name": "zb-dev"
  },
  "language_info": {
   "codemirror_mode": {
    "name": "ipython",
    "version": 3
   },
   "file_extension": ".py",
   "mimetype": "text/x-python",
   "name": "python",
   "nbconvert_exporter": "python",
   "pygments_lexer": "ipython3",
   "version": "3.12.9"
  }
 },
 "nbformat": 4,
 "nbformat_minor": 5
}
