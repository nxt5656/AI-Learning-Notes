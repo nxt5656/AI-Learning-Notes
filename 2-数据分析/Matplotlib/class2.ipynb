{
 "cells": [
  {
   "cell_type": "markdown",
   "id": "6f7eb9b3-f5fd-4da5-a00a-4e90e630db12",
   "metadata": {
    "collapsed": true,
    "jupyter": {
     "outputs_hidden": true
    }
   },
   "source": [
    "# 一、概述¶\n",
    "## 1. matplotlib的三层api\n",
    "matplotlib的原理或者说基础逻辑是，用Artist对象在画布(canvas)上绘制(Render)图形。\n",
    "就和人作画的步骤类似：\n",
    "\n",
    "准备一块画布或画纸\n",
    "准备好颜料、画笔等制图工具\n",
    "作画\n",
    "所以matplotlib有三个层次的API：\n",
    "\n",
    "matplotlib.backend_bases.FigureCanvas 代表了绘图区，所有的图像都是在绘图区完成的\n",
    "matplotlib.backend_bases.Renderer 代表了渲染器，可以近似理解为画笔，控制如何在 FigureCanvas 上画图。\n",
    "matplotlib.artist.Artist 代表了具体的图表组件，即调用了Renderer的接口在Canvas上作图。\n",
    "前两者处理程序和计算机的底层交互的事项，第三项Artist就是具体的调用接口来做出我们想要的图，比如图形、文本、线条的设定。所以通常来说，我们95%的时间，都是用来和matplotlib.artist.Artist类打交道的。\n"
   ]
  },
  {
   "cell_type": "markdown",
   "id": "673140ec-d523-423f-acec-8949d616fedb",
   "metadata": {},
   "source": [
    "## 2. Artist的分类\n",
    "Artist有两种类型：primitives 和containers。\n",
    "primitive是基本要素，它包含一些我们要在绘图区作图用到的标准图形对象，如曲线Line2D，文字text，矩形Rectangle，图像image等。\n",
    "container是容器，即用来装基本要素的地方，包括图形figure、坐标系Axes和坐标轴Axis。他们之间的关系如下图所示："
   ]
  },
  {
   "cell_type": "markdown",
   "id": "5f1cd4fa-0d3d-43bc-98ce-4b3c0d14ab3b",
   "metadata": {},
   "source": [
    "## 3. matplotlib标准用法\n",
    "matplotlib的标准使用流程为：\n",
    "\n",
    "1. 创建一个Figure实例\n",
    "1. 使用Figure实例创建一个或者多个Axes或Subplot实例\n",
    "1. 使用Axes实例的辅助方法来创建primitive\n",
    "值得一提的是，Axes是一种容器，它可能是matplotlib API中最重要的类，并且我们大多数时间都花在和它打交道上。更具体的信息会在之后容器小节说明。\n",
    "\n",
    "一个流程示例及说明如下："
   ]
  },
  {
   "cell_type": "code",
   "id": "e37dca5a-c0b5-41d8-909e-09bc485bc7cb",
   "metadata": {},
   "source": [
    "import matplotlib.pyplot as plt\n",
    "import numpy as np\n",
    "\n",
    "# step 1 \n",
    "# 我们用 matplotlib.pyplot.figure() 创建了一个Figure实例\n",
    "fig = plt.figure()\n",
    "\n",
    "# step 2\n",
    "# 然后用Figure实例创建了一个两行一列(即可以有两个subplot)的绘图区，并同时在第一个位置创建了一个subplot\n",
    "ax = fig.add_subplot(2, 1, 1) # two rows, one column, first plot\n",
    "\n",
    "# step 3\n",
    "# 然后用Axes实例的方法画了一条曲线\n",
    "t = np.arange(0.0, 1.0, 0.01)\n",
    "s = np.sin(2*np.pi*t)\n",
    "line, = ax.plot(t, s, color='blue', lw=2)"
   ],
   "outputs": [],
   "execution_count": null
  },
  {
   "cell_type": "markdown",
   "id": "77b4e3e1-142f-4a4c-bede-b9fbfe1772cc",
   "metadata": {},
   "source": [
    "# 二、自定义你的Artist对象¶\n",
    "## 1. Artist属性\n",
    "在图形中的每一个元素都对应着一个matplotlib Artist，且都有其对应的配置属性列表。\n",
    "\n",
    "Figure本身包含一个Rectangle，Rectangle的大小就是Figure的大小；你可以用来设置Figure的背景色和透明度。\n",
    "每个Axes边界框(默认白底黑边)，也有一个Rectangle，通过它可以设置Axes的颜色、透明度等。\n",
    "这些实例都存储在成员变量(member variables) Figure.patch 和 Axes.patch中。 （Patch是一个来源于MATLAB的名词，它是图形上颜色的一个2D补丁，包含rectangels-矩形，circles-圆 和 plygons-多边形）\n",
    "\n",
    "换个表达方式：\n",
    "Figure.patch属性：是一个Rectangle，代表了图表的矩形框，它的大小就是图表的大小， 并且可以通过它设置figure的背景色和透明度。\n",
    "Axes.patch属性：也是一个Rectangle，代表了绘图坐标轴内部的矩形框（白底黑边）， 通过它可以设置Axes的颜色、透明度等。\n",
    "\n",
    "每个matplotlib Artist都有以下属性：\n",
    "\n",
    ".alpha属性：透明度。值为0—1之间的浮点数\n",
    ".axes属性：返回这个Artist所属的axes，可能为None\n",
    ".figure属性：该Artist所属的Figure，可能为None\n",
    ".label：一个text label\n",
    ".visible：布尔值，控制Artist是否绘制\n",
    "这里仅列举几个常见的属性，更详细的属性清单请查阅官方文档： Artist属性列表"
   ]
  },
  {
   "cell_type": "code",
   "id": "c14d370f-929d-4afc-87fa-ffcb27afe292",
   "metadata": {},
   "source": [
    "# .patch\n",
    "plt.figure().patch\n",
    "plt.axes().patch"
   ],
   "outputs": [],
   "execution_count": null
  },
  {
   "metadata": {},
   "cell_type": "markdown",
   "source": [
    "## 2. 属性调用方式\n",
    "Artist对象的所有属性都通过相应的 get_* 和 set_* 函数进行读写。\n",
    "例如下面的语句将alpha属性设置为当前值的一半：\n",
    "\n",
    "a = o.get_alpha()\n",
    "o.set_alpha(0.5*a)\n",
    "\n",
    "如果想一次设置多个属性，也可以用set方法：\n",
    "\n",
    "o.set(alpha=0.5, zorder=2)\n",
    "\n",
    "可以使用 matplotlib.artist.getp(o,\"alpha\") 来获取属性，如果指定属性名，则返回对象的该属性值；如果不指定属性名，则返回对象的所有的属性和值。"
   ],
   "id": "89f63055b808467b"
  },
  {
   "metadata": {},
   "cell_type": "code",
   "source": [
    "import matplotlib\n",
    "# Figure rectangle的属性\n",
    "matplotlib.artist.getp(fig.patch)"
   ],
   "id": "6dbf4469f15b991a",
   "outputs": [],
   "execution_count": null
  },
  {
   "metadata": {},
   "cell_type": "markdown",
   "source": [
    "# 三、基本元素 - primitives\n",
    "现在我们知道了如何检查和设置给定对象的属性，我们还需要知道如何获取该对象。\n",
    "\n",
    "前文介绍到，Artist包含两种对象：基本要素-primitives 和 容器-containers。\n",
    "primitives是基本要素，它包含一些我们要在绘图区作图用到的标准图形对象，如曲线Line2D，文本text，矩形Rectangle，图像image等。\n",
    "container是容器，即用来装基本要素的地方，包括图形figure、坐标系Axes和坐标轴Axis。\n",
    "\n",
    "本章重点介绍下 primitives 的几种类型：曲线-Line2D，矩形-Rectangle，图像-image\n",
    "\n",
    "## 3.1. 2DLines\n",
    "在matplotlib中曲线的绘制，主要是通过类 matplotlib.lines.Line2D 来完成的。\n",
    "它的基类: matplotlib.artist.Artist\n",
    "\n",
    "matplotlib中线-line的含义：它表示的可以是连接所有顶点的实线样式，也可以是每个顶点的标记。此外，这条线也会受到绘画风格的影响，比如，我们可以创建虚线种类的线。\n",
    "\n",
    "它的构造函数：\n",
    "\n",
    "```\n",
    "class matplotlib.lines.Line2D(xdata, ydata, linewidth=None, linestyle=None, color=None, marker=None, markersize=None, markeredgewidth=None, markeredgecolor=None, markerfacecolor=None, markerfacecoloralt='none', fillstyle=None, antialiased=None, dash_capstyle=None, solid_capstyle=None, dash_joinstyle=None, solid_joinstyle=None, pickradius=5, drawstyle=None, markevery=None, **kwargs\n",
    "```\n",
    "\n",
    "其中常用的的参数有：\n",
    "\n",
    "xdata:需要绘制的line中点的在x轴上的取值，若忽略，则默认为range(1,len(ydata)+1)\n",
    "ydata:需要绘制的line中点的在y轴上的取值\n",
    "linewidth:线条的宽度\n",
    "linestyle:线型\n",
    "color:线条的颜色\n",
    "marker:点的标记，详细可参考markers API\n",
    "markersize:标记的size\n",
    "其他详细参数可参考Line2D官方文档\n",
    "\n",
    "### a. 如何设置Line2D的属性\n",
    "有三种方法可以用设置线的属性。\n",
    "\n",
    "#### 1) 直接在plot()函数中设置\n"
   ],
   "id": "341e836cfddffdf2"
  },
  {
   "metadata": {},
   "cell_type": "code",
   "source": [
    "import matplotlib.pyplot as plt\n",
    "x = range(0,5)\n",
    "y = [2,5,7,8,10]\n",
    "plt.plot(x,y, linewidth=10) # 设置线的粗细参数为10"
   ],
   "id": "6b18f27868c60653",
   "outputs": [],
   "execution_count": null
  },
  {
   "metadata": {},
   "cell_type": "markdown",
   "source": "#### 2) 通过获得线对象，对线对象进行设置",
   "id": "3f2cfdcd7c7d1579"
  },
  {
   "metadata": {},
   "cell_type": "code",
   "source": [
    "x = range(0,5)\n",
    "y = [2,5,7,8,10]\n",
    "line, = plt.plot(x, y, '-')\n",
    "line.set_antialiased(False) # 关闭抗锯齿功能"
   ],
   "id": "51a973140a60991f",
   "outputs": [],
   "execution_count": null
  },
  {
   "metadata": {},
   "cell_type": "markdown",
   "source": [
    "#### 3) 获得线属性，使用setp()函数设置\n",
    "\n"
   ],
   "id": "c88b1d3c8d650a97"
  },
  {
   "metadata": {},
   "cell_type": "code",
   "source": [
    "x = range(0,5)\n",
    "y = [2,5,7,8,10]\n",
    "lines = plt.plot(x, y)\n",
    "plt.setp(lines, color='r', linewidth=10)"
   ],
   "id": "776c1e469cb8d0c6",
   "outputs": [],
   "execution_count": null
  },
  {
   "metadata": {},
   "cell_type": "markdown",
   "source": [
    "### b. 如何绘制lines¶\n",
    "#### 1) 绘制直线line 常用的方法有两种\n",
    "\n",
    "pyplot方法绘制\n",
    "Line2D对象绘制"
   ],
   "id": "424af4b932f95736"
  },
  {
   "metadata": {},
   "cell_type": "markdown",
   "source": "##### 1. pyplot方法绘制",
   "id": "14b292a4526ba878"
  },
  {
   "metadata": {},
   "cell_type": "code",
   "source": [
    "import matplotlib.pyplot as plt\n",
    "x = range(0,5)\n",
    "y = [2,5,7,8,10]\n",
    "plt.plot(x,y)"
   ],
   "id": "40e9f00957292428",
   "outputs": [],
   "execution_count": null
  },
  {
   "metadata": {},
   "cell_type": "markdown",
   "source": "##### 2. Line2D对象绘制",
   "id": "3cae2a8bccba8540"
  },
  {
   "metadata": {},
   "cell_type": "code",
   "source": [
    "import matplotlib.pyplot as plt\n",
    "from matplotlib.lines import Line2D\n",
    "\n",
    "fig = plt.figure()\n",
    "ax = fig.add_subplot(111)\n",
    "line = Line2D(x, y)\n",
    "ax.add_line(line)\n",
    "ax.set_xlim(min(x), max(x))\n",
    "ax.set_ylim(min(y), max(y))\n",
    "\n",
    "plt.show()"
   ],
   "id": "63c6dc864cf4a302",
   "outputs": [],
   "execution_count": null
  },
  {
   "metadata": {},
   "cell_type": "markdown",
   "source": [
    "##### 2) errorbar绘制误差折线图\n",
    "pyplot里有个专门绘制误差线的功能，通过errorbar类实现，它的构造函数：\n",
    "```\n",
    "matplotlib.pyplot.errorbar(x, y, yerr=None, xerr=None, fmt='', ecolor=None, elinewidth=None, capsize=None, barsabove=False, lolims=False, uplims=False, xlolims=False, xuplims=False, errorevery=1, capthick=None, *, data=None, **kwargs)\n",
    "```\n",
    "其中最主要的参数是前几个:\n",
    "\n",
    "x：需要绘制的line中点的在x轴上的取值\n",
    "y：需要绘制的line中点的在y轴上的取值\n",
    "yerr：指定y轴水平的误差\n",
    "xerr：指定x轴水平的误差\n",
    "fmt：指定折线图中某个点的颜色，形状，线条风格，例如‘co--’\n",
    "ecolor：指定error bar的颜色\n",
    "elinewidth：指定error bar的线条宽度\n",
    "绘制errorbar\n",
    "\n"
   ],
   "id": "5642e66c5c15fad6"
  },
  {
   "metadata": {},
   "cell_type": "code",
   "source": [
    "import numpy as np\n",
    "import matplotlib.pyplot as plt\n",
    "fig = plt.figure()\n",
    "x = np.arange(10)\n",
    "y = 2.5 * np.sin(x / 20 * np.pi)\n",
    "yerr = np.linspace(0.05, 0.2, 10)\n",
    "plt.errorbar(x, y + 3, yerr=yerr, label='both limits (default)')"
   ],
   "id": "4b0b742b624b6110",
   "outputs": [],
   "execution_count": null
  },
  {
   "metadata": {},
   "cell_type": "markdown",
   "source": [
    "## 3.2. patches\n",
    "matplotlib.patches.Patch类是二维图形类。它的基类是matplotlib.artist.Artist，它的构造函数：\n",
    "详细清单见 matplotlib.patches API\n",
    "```\n",
    "Patch(edgecolor=None, facecolor=None, color=None, linewidth=None, linestyle=None, antialiased=None, hatch=None, fill=True, capstyle=None, joinstyle=None, **kwargs)\n",
    "```\n",
    "### a. Rectangle-矩形\n",
    "Rectangle矩形类在官网中的定义是： 通过锚点xy及其宽度和高度生成。 Rectangle本身的主要比较简单，即xy控制锚点，width和height分别控制宽和高。它的构造函数：\n",
    "\n",
    "class matplotlib.patches.Rectangle(xy, width, height, angle=0.0, **kwargs)\n",
    "\n",
    "在实际中最常见的矩形图是hist直方图和bar条形图。\n",
    "\n",
    "#### 1) hist-直方图\n",
    "\n",
    "```\n",
    "matplotlib.pyplot.hist(x,bins=None,range=None, density=None, bottom=None, histtype='bar', align='mid', log=False, color=None, label=None, stacked=False, normed=None)\n",
    "```\n",
    "\n",
    "下面是一些常用的参数：\n",
    "\n",
    "1. x: 数据集，最终的直方图将对数据集进行统计\n",
    "1. bins: 统计的区间分布\n",
    "1. range: tuple, 显示的区间，range在没有给出bins时生效\n",
    "1. density: bool，默认为false，显示的是频数统计结果，为True则显示频率统计结果，这里需要注意，频率统计结果=区间数目/(总数*区间宽度)，和normed效果一致，官方推荐使用density\n",
    "1. histtype: 可选{'bar', 'barstacked', 'step', 'stepfilled'}之一，默认为bar，推荐使用默认配置，step使用的是梯状，stepfilled则会对梯状内部进行填充，效果与bar类似\n",
    "1. align: 可选{'left', 'mid', 'right'}之一，默认为'mid'，控制柱状图的水平分布，left或者right，会有部分空白区域，推荐使用默认\n",
    "1. log: bool，默认False,即y坐标轴是否选择指数刻度\n",
    "1. stacked: bool，默认为False，是否为堆积状图\n",
    "\n",
    "hist绘制直方图"
   ],
   "id": "f60a60d3f184aae8"
  },
  {
   "metadata": {},
   "cell_type": "code",
   "source": [
    "import matplotlib.pyplot as plt\n",
    "import numpy as np\n",
    "x=np.random.randint(0,100,100) #生成【0-100】之间的100个数据,即 数据集\n",
    "bins=np.arange(0,101,10) #设置连续的边界值，即直方图的分布区间[0,10],[10,20]...\n",
    "plt.hist(x,bins,color='fuchsia',alpha=0.5)#alpha设置透明度，0为完全透明\n",
    "plt.xlabel('scores')\n",
    "plt.ylabel('count')\n",
    "plt.xlim(0,100)#设置x轴分布范围 plt.show()"
   ],
   "id": "2f4424dde4edb635",
   "outputs": [],
   "execution_count": null
  },
  {
   "metadata": {},
   "cell_type": "markdown",
   "source": "Rectangle矩形类绘制直方图",
   "id": "850761a32ce10ceb"
  },
  {
   "metadata": {
    "ExecuteTime": {
     "end_time": "2025-02-25T09:29:10.840435Z",
     "start_time": "2025-02-25T09:28:00.536849Z"
    }
   },
   "cell_type": "code",
   "source": [
    "import pandas as pd\n",
    "import re\n",
    "df = pd.DataFrame(columns = ['data'])\n",
    "df.loc[:,'data'] = x\n",
    "df['fenzu'] = pd.cut(df['data'], bins=bins, right = False,include_lowest=True)\n",
    "\n",
    "df_cnt = df['fenzu'].value_counts().reset_index()\n",
    "df_cnt.loc[:,'mini'] = df_cnt['index'].astype(str).map(lambda x:re.findall('\\[(.*)\\,',x)[0]).astype(int)\n",
    "df_cnt.loc[:,'maxi'] = df_cnt['index'].astype(str).map(lambda x:re.findall('\\,(.*)\\)',x)[0]).astype(int)\n",
    "df_cnt.loc[:,'width'] = df_cnt['maxi']- df_cnt['mini']\n",
    "df_cnt.sort_values('mini',ascending = True,inplace = True)\n",
    "df_cnt.reset_index(inplace = True,drop = True)\n",
    "\n",
    "#用Rectangle把hist绘制出来\n",
    "import matplotlib.pyplot as plt\n",
    "\n",
    "fig = plt.figure()\n",
    "ax1 = fig.add_subplot(111)\n",
    "#rect1 = plt.Rectangle((0,0),10,10)\n",
    "#ax1.add_patch(rect)\n",
    "\n",
    "#ax2 = fig.add_subplot(212)\n",
    "for i in df_cnt.index:\n",
    "    rect =  plt.Rectangle((df_cnt.loc[i,'mini'],0),df_cnt.loc[i,'width'],df_cnt.loc[i,'fenzu'])\n",
    "    #rect2 = plt.Rectangle((10,0),10,5)\n",
    "    ax1.add_patch(rect)\n",
    "#ax1.add_patch(rect2)\n",
    "ax1.set_xlim(0, 100)\n",
    "ax1.set_ylim(0, 16)\n",
    "plt.show()"
   ],
   "id": "28aaf47fea150e",
   "outputs": [
    {
     "name": "stderr",
     "output_type": "stream",
     "text": [
      "<>:8: SyntaxWarning: invalid escape sequence '\\['\n",
      "<>:9: SyntaxWarning: invalid escape sequence '\\,'\n",
      "<>:8: SyntaxWarning: invalid escape sequence '\\['\n",
      "<>:9: SyntaxWarning: invalid escape sequence '\\,'\n",
      "/tmp/ipykernel_279375/331414219.py:8: SyntaxWarning: invalid escape sequence '\\['\n",
      "  df_cnt.loc[:,'mini'] = df_cnt['index'].astype(str).map(lambda x:re.findall('\\[(.*)\\,',x)[0]).astype(int)\n",
      "/tmp/ipykernel_279375/331414219.py:9: SyntaxWarning: invalid escape sequence '\\,'\n",
      "  df_cnt.loc[:,'maxi'] = df_cnt['index'].astype(str).map(lambda x:re.findall('\\,(.*)\\)',x)[0]).astype(int)\n",
      "/root/.cache/JetBrains/RemoteDev/dist/ea26855e7353e_pycharm-professional-2024.3.3/plugins/python-ce/helpers/pydev/_pydevd_bundle/pydevd_vars.py:725: FutureWarning: Series.__getitem__ treating keys as positions is deprecated. In a future version, integer keys will always be treated as labels (consistent with DataFrame behavior). To access a value by position, use `ser.iloc[pos]`\n",
      "  kind = df.dtypes[0].kind\n"
     ]
    },
    {
     "ename": "KeyError",
     "evalue": "'index'",
     "output_type": "error",
     "traceback": [
      "\u001B[0;31m---------------------------------------------------------------------------\u001B[0m",
      "\u001B[0;31mKeyError\u001B[0m                                  Traceback (most recent call last)",
      "File \u001B[0;32m~/miniconda3/envs/zb-dev/lib/python3.12/site-packages/pandas/core/indexes/base.py:3805\u001B[0m, in \u001B[0;36mIndex.get_loc\u001B[0;34m(self, key)\u001B[0m\n\u001B[1;32m   3804\u001B[0m \u001B[38;5;28;01mtry\u001B[39;00m:\n\u001B[0;32m-> 3805\u001B[0m     \u001B[38;5;28;01mreturn\u001B[39;00m \u001B[38;5;28mself\u001B[39m\u001B[38;5;241m.\u001B[39m_engine\u001B[38;5;241m.\u001B[39mget_loc(casted_key)\n\u001B[1;32m   3806\u001B[0m \u001B[38;5;28;01mexcept\u001B[39;00m \u001B[38;5;167;01mKeyError\u001B[39;00m \u001B[38;5;28;01mas\u001B[39;00m err:\n",
      "File \u001B[0;32mindex.pyx:167\u001B[0m, in \u001B[0;36mpandas._libs.index.IndexEngine.get_loc\u001B[0;34m()\u001B[0m\n",
      "File \u001B[0;32mindex.pyx:196\u001B[0m, in \u001B[0;36mpandas._libs.index.IndexEngine.get_loc\u001B[0;34m()\u001B[0m\n",
      "File \u001B[0;32mpandas/_libs/hashtable_class_helper.pxi:7081\u001B[0m, in \u001B[0;36mpandas._libs.hashtable.PyObjectHashTable.get_item\u001B[0;34m()\u001B[0m\n",
      "File \u001B[0;32mpandas/_libs/hashtable_class_helper.pxi:7089\u001B[0m, in \u001B[0;36mpandas._libs.hashtable.PyObjectHashTable.get_item\u001B[0;34m()\u001B[0m\n",
      "\u001B[0;31mKeyError\u001B[0m: 'index'",
      "\nThe above exception was the direct cause of the following exception:\n",
      "\u001B[0;31mKeyError\u001B[0m                                  Traceback (most recent call last)",
      "Cell \u001B[0;32mIn[17], line 8\u001B[0m\n\u001B[1;32m      5\u001B[0m df[\u001B[38;5;124m'\u001B[39m\u001B[38;5;124mfenzu\u001B[39m\u001B[38;5;124m'\u001B[39m] \u001B[38;5;241m=\u001B[39m pd\u001B[38;5;241m.\u001B[39mcut(df[\u001B[38;5;124m'\u001B[39m\u001B[38;5;124mdata\u001B[39m\u001B[38;5;124m'\u001B[39m], bins\u001B[38;5;241m=\u001B[39mbins, right \u001B[38;5;241m=\u001B[39m \u001B[38;5;28;01mFalse\u001B[39;00m,include_lowest\u001B[38;5;241m=\u001B[39m\u001B[38;5;28;01mTrue\u001B[39;00m)\n\u001B[1;32m      7\u001B[0m df_cnt \u001B[38;5;241m=\u001B[39m df[\u001B[38;5;124m'\u001B[39m\u001B[38;5;124mfenzu\u001B[39m\u001B[38;5;124m'\u001B[39m]\u001B[38;5;241m.\u001B[39mvalue_counts()\u001B[38;5;241m.\u001B[39mreset_index()\n\u001B[0;32m----> 8\u001B[0m df_cnt\u001B[38;5;241m.\u001B[39mloc[:,\u001B[38;5;124m'\u001B[39m\u001B[38;5;124mmini\u001B[39m\u001B[38;5;124m'\u001B[39m] \u001B[38;5;241m=\u001B[39m df_cnt[\u001B[38;5;124m'\u001B[39m\u001B[38;5;124mindex\u001B[39m\u001B[38;5;124m'\u001B[39m]\u001B[38;5;241m.\u001B[39mastype(\u001B[38;5;28mstr\u001B[39m)\u001B[38;5;241m.\u001B[39mmap(\u001B[38;5;28;01mlambda\u001B[39;00m x:re\u001B[38;5;241m.\u001B[39mfindall(\u001B[38;5;124m'\u001B[39m\u001B[38;5;124m\\\u001B[39m\u001B[38;5;124m[(.*)\u001B[39m\u001B[38;5;124m\\\u001B[39m\u001B[38;5;124m,\u001B[39m\u001B[38;5;124m'\u001B[39m,x)[\u001B[38;5;241m0\u001B[39m])\u001B[38;5;241m.\u001B[39mastype(\u001B[38;5;28mint\u001B[39m)\n\u001B[1;32m      9\u001B[0m df_cnt\u001B[38;5;241m.\u001B[39mloc[:,\u001B[38;5;124m'\u001B[39m\u001B[38;5;124mmaxi\u001B[39m\u001B[38;5;124m'\u001B[39m] \u001B[38;5;241m=\u001B[39m df_cnt[\u001B[38;5;124m'\u001B[39m\u001B[38;5;124mindex\u001B[39m\u001B[38;5;124m'\u001B[39m]\u001B[38;5;241m.\u001B[39mastype(\u001B[38;5;28mstr\u001B[39m)\u001B[38;5;241m.\u001B[39mmap(\u001B[38;5;28;01mlambda\u001B[39;00m x:re\u001B[38;5;241m.\u001B[39mfindall(\u001B[38;5;124m'\u001B[39m\u001B[38;5;124m\\\u001B[39m\u001B[38;5;124m,(.*)\u001B[39m\u001B[38;5;124m\\\u001B[39m\u001B[38;5;124m)\u001B[39m\u001B[38;5;124m'\u001B[39m,x)[\u001B[38;5;241m0\u001B[39m])\u001B[38;5;241m.\u001B[39mastype(\u001B[38;5;28mint\u001B[39m)\n\u001B[1;32m     10\u001B[0m df_cnt\u001B[38;5;241m.\u001B[39mloc[:,\u001B[38;5;124m'\u001B[39m\u001B[38;5;124mwidth\u001B[39m\u001B[38;5;124m'\u001B[39m] \u001B[38;5;241m=\u001B[39m df_cnt[\u001B[38;5;124m'\u001B[39m\u001B[38;5;124mmaxi\u001B[39m\u001B[38;5;124m'\u001B[39m]\u001B[38;5;241m-\u001B[39m df_cnt[\u001B[38;5;124m'\u001B[39m\u001B[38;5;124mmini\u001B[39m\u001B[38;5;124m'\u001B[39m]\n",
      "File \u001B[0;32m~/miniconda3/envs/zb-dev/lib/python3.12/site-packages/pandas/core/frame.py:4102\u001B[0m, in \u001B[0;36mDataFrame.__getitem__\u001B[0;34m(self, key)\u001B[0m\n\u001B[1;32m   4100\u001B[0m \u001B[38;5;28;01mif\u001B[39;00m \u001B[38;5;28mself\u001B[39m\u001B[38;5;241m.\u001B[39mcolumns\u001B[38;5;241m.\u001B[39mnlevels \u001B[38;5;241m>\u001B[39m \u001B[38;5;241m1\u001B[39m:\n\u001B[1;32m   4101\u001B[0m     \u001B[38;5;28;01mreturn\u001B[39;00m \u001B[38;5;28mself\u001B[39m\u001B[38;5;241m.\u001B[39m_getitem_multilevel(key)\n\u001B[0;32m-> 4102\u001B[0m indexer \u001B[38;5;241m=\u001B[39m \u001B[38;5;28mself\u001B[39m\u001B[38;5;241m.\u001B[39mcolumns\u001B[38;5;241m.\u001B[39mget_loc(key)\n\u001B[1;32m   4103\u001B[0m \u001B[38;5;28;01mif\u001B[39;00m is_integer(indexer):\n\u001B[1;32m   4104\u001B[0m     indexer \u001B[38;5;241m=\u001B[39m [indexer]\n",
      "File \u001B[0;32m~/miniconda3/envs/zb-dev/lib/python3.12/site-packages/pandas/core/indexes/base.py:3812\u001B[0m, in \u001B[0;36mIndex.get_loc\u001B[0;34m(self, key)\u001B[0m\n\u001B[1;32m   3807\u001B[0m     \u001B[38;5;28;01mif\u001B[39;00m \u001B[38;5;28misinstance\u001B[39m(casted_key, \u001B[38;5;28mslice\u001B[39m) \u001B[38;5;129;01mor\u001B[39;00m (\n\u001B[1;32m   3808\u001B[0m         \u001B[38;5;28misinstance\u001B[39m(casted_key, abc\u001B[38;5;241m.\u001B[39mIterable)\n\u001B[1;32m   3809\u001B[0m         \u001B[38;5;129;01mand\u001B[39;00m \u001B[38;5;28many\u001B[39m(\u001B[38;5;28misinstance\u001B[39m(x, \u001B[38;5;28mslice\u001B[39m) \u001B[38;5;28;01mfor\u001B[39;00m x \u001B[38;5;129;01min\u001B[39;00m casted_key)\n\u001B[1;32m   3810\u001B[0m     ):\n\u001B[1;32m   3811\u001B[0m         \u001B[38;5;28;01mraise\u001B[39;00m InvalidIndexError(key)\n\u001B[0;32m-> 3812\u001B[0m     \u001B[38;5;28;01mraise\u001B[39;00m \u001B[38;5;167;01mKeyError\u001B[39;00m(key) \u001B[38;5;28;01mfrom\u001B[39;00m \u001B[38;5;21;01merr\u001B[39;00m\n\u001B[1;32m   3813\u001B[0m \u001B[38;5;28;01mexcept\u001B[39;00m \u001B[38;5;167;01mTypeError\u001B[39;00m:\n\u001B[1;32m   3814\u001B[0m     \u001B[38;5;66;03m# If we have a listlike key, _check_indexing_error will raise\u001B[39;00m\n\u001B[1;32m   3815\u001B[0m     \u001B[38;5;66;03m#  InvalidIndexError. Otherwise we fall through and re-raise\u001B[39;00m\n\u001B[1;32m   3816\u001B[0m     \u001B[38;5;66;03m#  the TypeError.\u001B[39;00m\n\u001B[1;32m   3817\u001B[0m     \u001B[38;5;28mself\u001B[39m\u001B[38;5;241m.\u001B[39m_check_indexing_error(key)\n",
      "\u001B[0;31mKeyError\u001B[0m: 'index'"
     ]
    }
   ],
   "execution_count": 17
  },
  {
   "metadata": {},
   "cell_type": "code",
   "source": "",
   "id": "502d29092e678cd8",
   "outputs": [],
   "execution_count": null
  }
 ],
 "metadata": {
  "kernelspec": {
   "display_name": "Python_(zb-dev)",
   "language": "python",
   "name": "zb-dev"
  },
  "language_info": {
   "codemirror_mode": {
    "name": "ipython",
    "version": 3
   },
   "file_extension": ".py",
   "mimetype": "text/x-python",
   "name": "python",
   "nbconvert_exporter": "python",
   "pygments_lexer": "ipython3",
   "version": "3.12.9"
  }
 },
 "nbformat": 4,
 "nbformat_minor": 5
}
