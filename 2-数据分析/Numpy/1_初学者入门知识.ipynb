{
 "cells": [
  {
   "cell_type": "markdown",
   "id": "1c813f76b1071c29",
   "metadata": {},
   "source": [
    "# 初学者入门知识\n",
    "## 如何在Python代码中引入 Numpy\n",
    "在安装Numpy后,可以按下面代码示例,在项目或代码中引入Numpy\n"
   ]
  },
  {
   "cell_type": "code",
   "execution_count": null,
   "id": "dc3b50612492db5c",
   "metadata": {},
   "outputs": [],
   "source": [
    "import numpy as np"
   ]
  },
  {
   "cell_type": "markdown",
   "id": "599202c5cf7cdb33",
   "metadata": {},
   "source": [
    "## 查看示例代码\n",
    "\n",
    "在整个 NumPy 文档中，您会发现如下所示的块"
   ]
  },
  {
   "cell_type": "code",
   "execution_count": null,
   "id": "65c374280aed67f4",
   "metadata": {},
   "outputs": [],
   "source": [
    "# 定义一个2*3的数组\n",
    "a = np.array([[1, 2, 3],[4,5,6]])\n",
    "# 输出这个数组的形状\n",
    "a.shape"
   ]
  },
  {
   "cell_type": "markdown",
   "id": "e9325a15d8db4aec",
   "metadata": {},
   "source": [
    "## 为什么使用 NumPy\n",
    "Python 列表是出色的通用容器。它们可以是 “异构的”，这意味着它们可以包含各种类型的元素，并且在用于对少量元素执行单个作时速度非常快。\n",
    "\n",
    "根据数据的特征和需要执行的作类型，其他容器可能更合适;通过利用这些特性，我们可以提高速度，减少内存消耗，并为执行各种常见处理任务提供高级语法。当 CPU 上需要处理大量 “同构” （相同类型） 数据时，NumPy 会大放异彩。\n",
    "\n",
    "## 什么是“数组”\n",
    "在计算机编程中，数组是一种用于存储和检索数据的结构。我们经常把数组当作空间中的网格来谈论，每个单元存储一个数据元素。例如，如果数据的每个元素都是一个数字，我们可能会像列表一样可视化一个 “一维” 数组：\n",
    "\n",
    "$$\n",
    "\\mathbf{a} = \\begin{bmatrix} a_1 & a_2 & a_3 & \\cdots & a_n \\end{bmatrix}\n",
    "$$\n",
    "\n",
    "二维数组类似于一个表：\n",
    "\n",
    "$$\n",
    "\\mathbf{A} = \\begin{bmatrix}\n",
    "a_{11} & a_{12} & a_{13} & \\cdots & a_{1n} \\\\\n",
    "a_{21} & a_{22} & a_{23} & \\cdots & a_{2n} \\\\\n",
    "a_{31} & a_{32} & a_{33} & \\cdots & a_{3n} \\\\\n",
    "\\vdots & \\vdots & \\vdots & \\ddots & \\vdots \\\\\n",
    "a_{m1} & a_{m2} & a_{m3} & \\cdots & a_{mn}\n",
    "\\end{bmatrix}\n",
    "$$\n",
    "\n",
    "三维数组就像一组表格，可能堆叠起来，就好像它们打印在单独的页面上一样。在 NumPy 中，这个想法被推广到任意数量的维度，因此基本的数组类被称为 ndarray ：它表示一个 “N 维数组”。\n",
    "\n",
    "大多数 NumPy 数组都有一些限制。例如：\n",
    "1. 数组的所有元素必须属于同一类型的数据.\n",
    "1. 创建后，数组的总大小无法更改。\n",
    "1. 形状必须是“矩形”，而不是“锯齿状”;例如，二维数组的每一行必须具有相同的列数。\n",
    "1. 当满足这些条件时，NumPy 利用这些特性使数组比限制较少的数据结构更快、内存效率更高、使用更方便。\n",
    "\n",
    "## 数组基础知识"
   ]
  },
  {
   "cell_type": "code",
   "execution_count": null,
   "id": "11a4b1e7bfe208e9",
   "metadata": {},
   "outputs": [],
   "source": [
    "# 初始化数组的一种方法是使用 Python 序列，例如列表。例如：\n",
    "\n",
    "a = np.array([1, 2, 3, 4, 5, 6])\n",
    "a"
   ]
  },
  {
   "cell_type": "code",
   "execution_count": null,
   "id": "8b957f01f54e2b7a",
   "metadata": {},
   "outputs": [],
   "source": [
    "# 可以通过多种方式访问数组的元素。例如，我们可以像访问原始列表中的元素一样访问此数组的单个元素：使用方括号内元素的整数索引。\n",
    "\n",
    "# 注意,数组的第一个是以0开始的\n",
    "a[0]"
   ]
  },
  {
   "cell_type": "code",
   "execution_count": null,
   "id": "81860cd2fcdc954d",
   "metadata": {},
   "outputs": [],
   "source": [
    "# 与原始列表一样，该数组是可变的。\n",
    "a[0] = 10\n",
    "a\n",
    "\n"
   ]
  },
  {
   "cell_type": "code",
   "execution_count": null,
   "id": "9c4d59380db069df",
   "metadata": {},
   "outputs": [],
   "source": [
    "# 与原始列表一样，Python 切片表示法也可用于索引。\n",
    "a[:3]"
   ]
  },
  {
   "cell_type": "code",
   "execution_count": null,
   "id": "4e4a2ded-4a76-4f1e-b9f6-208ecc66f1c2",
   "metadata": {},
   "outputs": [],
   "source": [
    "# 一个主要区别是列表的切片索引将元素复制到新列表中，但切片数组会返回一个视图：一个引用原始数组中数据的对象。原始数组可以使用 view 进行 mut 更改。\n",
    "b = a[3:]\n",
    "b"
   ]
  },
  {
   "cell_type": "code",
   "execution_count": null,
   "id": "b543c828-86ab-4d1f-ac51-75051b5950bd",
   "metadata": {},
   "outputs": [],
   "source": [
    "b[0]=40\n",
    "b[1]=50\n",
    "b[2]=61\n",
    "\n",
    "a"
   ]
  },
  {
   "cell_type": "code",
   "execution_count": null,
   "id": "d9eaca38-abd8-4ba4-aa47-7e3bab4ab025",
   "metadata": {},
   "outputs": [],
   "source": [
    "# 二维或高维数组\n",
    "# 可以从嵌套的Python序列初始化二维和高维数组：\n",
    "a = np.array([[1, 2, 3, 4], [5, 6, 7, 8], [9, 10, 11, 12]])\n",
    "a\n",
    "# 在Numpy中，阵列的尺寸有时称为“轴”。该术语可能有助于在数组的维度和数组表示的数据的维度之间进行歧义。例如，数组 a 可以表示三个点，每个点位于四维空间内，但是 a 只有两个“轴”。\n",
    "# 数组和列表列表之间的另一个区别是，可以通过指定沿逗号隔开的单个方括号内的每个轴沿每个轴的索引来访问数组的一个元素。例如，元素 8 在第 1 中，列 3 ：\n",
    "a[1, 3]\n"
   ]
  },
  {
   "cell_type": "markdown",
   "id": "1aca0dd8-9942-4588-873b-2e71049f5d33",
   "metadata": {},
   "source": [
    "在数学中，熟悉的做法是首先引用行索引的矩阵元素，第二列索引第二。对于二维阵列而言，情况恰好是正确的，但是更好的心理模型是将列索引视为最后一个索引，而行索引则是第二。这将概括为具有多个维度的数组。\n",
    "您可能会听到0-D（零维）阵列称为“标量”，1-D（一维）阵列为“向量”，一个2-D（二维）阵列为“矩阵”，或N-D（n-dimensional，“ N”，“ N”通常是一个大于2）的Array and a'sorsor's or'sesorsor'sorn。为了清楚起见，最好避免使用数组时避免数学术语，因为具有这些名称的数学对象的行为与数组的行为不同（例如“矩阵”乘法与“阵列”乘法的根本不同），并且在科学的Python生态系统中还有其他具有这些名称的对象（例如，具有这些名称（例如，这些名称）（例如，这些名称（例如，基础数据）是pytor of pytor of pytor of pytor of pytor of pytor of pytor of pytor''the the the the the）"
   ]
  },
  {
   "cell_type": "markdown",
   "id": "03d4ec8f-0e7e-4359-a5bc-7f3f827417b5",
   "metadata": {},
   "source": [
    "## 数组的属性\n",
    "本节涵盖 ndim ， shape ， size 和 dtype 属性数组的属性。\n"
   ]
  },
  {
   "cell_type": "code",
   "execution_count": null,
   "id": "79b8b8a3-9e91-41a0-a318-b86bf814567c",
   "metadata": {},
   "outputs": [],
   "source": [
    "# 数组的尺寸数量包含在 ndim 属性中。\n",
    "a.ndim"
   ]
  },
  {
   "cell_type": "code",
   "execution_count": null,
   "id": "f1853747-d770-454d-b980-bc20c50c937e",
   "metadata": {},
   "outputs": [],
   "source": [
    "# 数组的形状是非阴性整数的元组，该整数指定沿每个维度的元素数量。\n",
    "a.shape"
   ]
  },
  {
   "cell_type": "code",
   "execution_count": null,
   "id": "41aacef8-4197-432f-8cd6-5c80f549f317",
   "metadata": {},
   "outputs": [],
   "source": [
    "len(a.shape) == a.ndim"
   ]
  },
  {
   "cell_type": "code",
   "execution_count": null,
   "id": "99a19980-7573-40f2-b95f-5023710bc916",
   "metadata": {},
   "outputs": [],
   "source": [
    "# 数组中固定的元素总数包含在 size 属性中。\n",
    "a.size"
   ]
  },
  {
   "cell_type": "code",
   "execution_count": null,
   "id": "bda09001-7c81-4ef3-9c15-e249ea8a5663",
   "metadata": {},
   "outputs": [],
   "source": [
    "import math\n",
    "a.size == math.prod(a.shape)"
   ]
  },
  {
   "cell_type": "code",
   "execution_count": null,
   "id": "1bf6aab0-5c0a-44cd-9d14-489b41b61400",
   "metadata": {},
   "outputs": [],
   "source": [
    "# 数组通常是“均匀的”，这意味着它们仅包含一种“数据类型”的元素。数据类型记录在 dtype 属性中。\n",
    "a.dtype"
   ]
  },
  {
   "cell_type": "markdown",
   "id": "646e1112-8dc1-4030-ac81-dc17d04734aa",
   "metadata": {},
   "source": [
    "## 如何创建基本数组\n",
    "本节涵盖 np.zeros() ， np.ones() ， np.empty() ， np.arange() ， np.linspace()"
   ]
  },
  {
   "cell_type": "code",
   "execution_count": null,
   "id": "bbe4f401-f8f7-43a8-a248-a4a85530b532",
   "metadata": {},
   "outputs": [],
   "source": [
    "# 除了从一系列元素创建数组之外，您还可以轻松地创建一个填充 0 的数组：：\n",
    "np.zeros(2)"
   ]
  },
  {
   "cell_type": "code",
   "execution_count": null,
   "id": "00760890-901e-435b-bb5e-ae326a1c4db3",
   "metadata": {},
   "outputs": [],
   "source": [
    "# 或填充 1 的数组：\n",
    "np.ones(2)"
   ]
  },
  {
   "cell_type": "code",
   "execution_count": null,
   "id": "93252670-fc7f-4a9f-b5a5-2739c5fda5a3",
   "metadata": {},
   "outputs": [],
   "source": [
    "# 甚至是一个空数组！函数 empty 创建一个数组，其初始内容是随机的，并取决于内存的状态。在 zeros 上使用 empty （或类似的东西）的原因是速度 - 只需确保以后填充每个元素！\n",
    "np.empty(2) \n"
   ]
  },
  {
   "cell_type": "code",
   "execution_count": null,
   "id": "ae05e123-a63a-4ae1-8b89-51fbb09b604a",
   "metadata": {},
   "outputs": [],
   "source": [
    "# 您可以创建一个具有一系列元素的数组：\n",
    "np.arange(4)"
   ]
  },
  {
   "cell_type": "code",
   "execution_count": null,
   "id": "2e72595d-c368-4385-86ad-3a22c6d033dd",
   "metadata": {},
   "outputs": [],
   "source": [
    "# 甚至一个包含一系列均匀间隔间隔的数组。为此，您将指定第一个数字，最后一个数字和步长大小。\n",
    "\n",
    "np.arange(2, 9, 2)"
   ]
  },
  {
   "cell_type": "code",
   "execution_count": null,
   "id": "7ac475fc-c87c-4f22-86ab-d984b8145aab",
   "metadata": {},
   "outputs": [],
   "source": [
    "# 您也可以使用 np.linspace() 创建一个数组，该数组的值在指定的间隔中线性间隔：\n",
    "np.linspace(0, 10, num=5)\n"
   ]
  },
  {
   "cell_type": "markdown",
   "id": "8986e6f8-9320-4a0d-953c-486109a5593f",
   "metadata": {},
   "source": [
    "### 指定数据类型"
   ]
  },
  {
   "cell_type": "code",
   "execution_count": null,
   "id": "ee00340c-a9b1-445c-ac65-efaeb358c405",
   "metadata": {},
   "outputs": [],
   "source": [
    "# 虽然默认数据类型是浮点（ np.float64 ），但您可以使用 dtype 关键字明确指定要哪种数据类型。\n",
    "x = np.ones(2, dtype=np.int64)\n",
    "x\n"
   ]
  },
  {
   "cell_type": "code",
   "execution_count": null,
   "id": "40567ea0-c472-4790-8153-cb27764ecc74",
   "metadata": {},
   "outputs": [],
   "source": [
    "## 添加，删除和排序元素\n",
    "本节涵盖 np.sort() ， np.concatenate()"
   ]
  },
  {
   "cell_type": "code",
   "execution_count": null,
   "id": "7179eca2-d833-4799-9644-ca975ec94885",
   "metadata": {},
   "outputs": [],
   "source": [
    "# 对数组进行排序使用 np.sort() 非常简单。在调用函数时，你可以指定轴、类型和顺序。\n",
    "# 如果你从这个数组开始：\n",
    "arr = np.array([2, 1, 5, 3, 7, 4, 6, 8])\n",
    "# 你可以快速地按升序对数字进行排序：\n",
    "np.sort(arr)\n"
   ]
  },
  {
   "cell_type": "markdown",
   "id": "55039d75-a81b-4eac-aa74-00c133589f11",
   "metadata": {},
   "source": [
    "除了返回数组的排序副本的sort之外，您还可以使用：用途：\n",
    "1. argsort ，它是沿指定轴沿着的间接排序，\n",
    "1. lexsort ，这是对多个键的间接稳定排序，\n",
    "1. searchsorted ，它将在排序数组中查找元素，以及\n",
    "1. partition ，这是一个部分排序。"
   ]
  },
  {
   "cell_type": "code",
   "execution_count": null,
   "id": "d0614443-21d6-4bc0-84cc-c0b96c7ee97c",
   "metadata": {},
   "outputs": [],
   "source": [
    "### 连接两个数组\n",
    "a = np.array([1, 2, 3, 4])\n",
    "b = np.array([5, 6, 7, 8])\n",
    "np.concatenate((a, b))"
   ]
  },
  {
   "cell_type": "code",
   "execution_count": null,
   "id": "5ec94f43-076b-4ba0-b55a-defbbd0531e4",
   "metadata": {},
   "outputs": [],
   "source": [
    "x = np.array([[1, 2], [3, 4]])\n",
    "y = np.array([[5, 6]])\n",
    "np.concatenate((x, y), axis=0)"
   ]
  },
  {
   "cell_type": "markdown",
   "id": "4bb5eda1-9047-4244-98d7-a25d880342a9",
   "metadata": {},
   "source": [
    "## 获取数组的形状和大小\n",
    "本节涵盖 ndarray.ndim 、 ndarray.size 、 ndarray.shape\n",
    "\n",
    "ndarray.ndim 将告诉你数组的轴数或维度。\n",
    "\n",
    "ndarray.size 会告诉你数组的元素总数。这是数组形状的元素的乘积。\n",
    "\n",
    "ndarray.shape 将显示一个整数元组，表示数组中沿着每个维度存储的元素数。例如，如果您有一个2行3列的二维数组，则数组的形状为 (2, 3) 。\n"
   ]
  },
  {
   "cell_type": "code",
   "execution_count": null,
   "id": "40c4bf1f-790a-4e6b-9e3a-c62eaa496eb0",
   "metadata": {},
   "outputs": [],
   "source": [
    "# 例如，如果你创建这个数组：\n",
    "array_example = np.array(\n",
    "    [\n",
    "\t[\n",
    "\t\t[0, 1, 2, 3],\n",
    "\t\t[4, 5, 6, 7]\n",
    "\t],\n",
    "\t[\n",
    "\t\t[0, 1, 2, 3],\n",
    "\t\t[4, 5, 6, 7]\n",
    "\t],\n",
    "\t[\n",
    "\t\t[0, 1, 2, 3],\n",
    "\t\t[4, 5, 6, 7]\n",
    "\t]\n",
    "]\n",
    "    )\n"
   ]
  },
  {
   "cell_type": "code",
   "execution_count": null,
   "id": "2530ba45-4b95-4a9e-97d0-7e1d19d96a30",
   "metadata": {},
   "outputs": [],
   "source": [
    "# 要查找数组的维数，请运行：\n",
    "array_example.ndim\n"
   ]
  },
  {
   "cell_type": "code",
   "execution_count": null,
   "id": "c7cc9185-a28f-40e4-927e-44e0b3a97a3a",
   "metadata": {},
   "outputs": [],
   "source": []
  }
 ],
 "metadata": {
  "kernelspec": {
   "display_name": "Python (ai-learning-notes)",
   "language": "python",
   "name": "ai-learning-notes"
  },
  "language_info": {
   "codemirror_mode": {
    "name": "ipython",
    "version": 3
   },
   "file_extension": ".py",
   "mimetype": "text/x-python",
   "name": "python",
   "nbconvert_exporter": "python",
   "pygments_lexer": "ipython3",
   "version": "3.12.9"
  }
 },
 "nbformat": 4,
 "nbformat_minor": 5
}
