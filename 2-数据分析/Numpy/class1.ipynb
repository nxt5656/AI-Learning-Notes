{
 "cells": [
  {
   "metadata": {},
   "cell_type": "markdown",
   "source": [
    "# NumPy 简单入门教程\n",
    "## 一. 数组基础\n",
    "### 创建一个数组\n",
    "NumPy围绕这些称为数组的事物展开。实际上它被称之为 ndarrays，你不知道没事儿。使用NumPy提供的这些数组，我们就可以以闪电般的速度执行各种有用的操作，如矢量和矩阵、线性代数等数学运算！（开个玩笑，本文章中我们不会做任何繁重的数学运算）"
   ],
   "id": "bc9b1e648687b710"
  },
  {
   "metadata": {},
   "cell_type": "code",
   "source": [
    "import numpy as np\n",
    "\n",
    "# 一维数组\n",
    "a = np.array([0, 1, 2, 3, 4])\n",
    "b = np.array((0, 1, 2, 3, 4))\n",
    "c = np.arange(5)\n",
    "d = np.linspace(0, 2*np.pi, 5)\n",
    "\n",
    "print(a)\n",
    "print(b)\n",
    "print(c)\n",
    "print(d)"
   ],
   "id": "ee39fc0eb0b9bb03",
   "outputs": [],
   "execution_count": null
  },
  {
   "metadata": {},
   "cell_type": "markdown",
   "source": [
    "上面的代码显示了创建数组的4种不同方法。最基本的方法是将序列传递给NumPy的array()函数; 你可以传递任何序列（类数组），而不仅仅是常见的列表（list）数据类型。\n",
    "\n",
    "请注意，当我们打印具有不同长度数字的数组时，它会自动将它们填充出来。这对于查看矩阵很有用。对数组进行索引就像列表或任何其他Python序列一样。 你也可以对它们进行切片，我不打算在这里切片一维数组，如果你想了解切片的更多信息，请查看这篇文章索引与切片 - NumPy 中文文档。\n",
    "\n",
    "上面的数组示例是如何使用NumPy表示向量的，接下来我们将看看如何使用多维数组表示矩阵和更多的信息。\n",
    "\n"
   ],
   "id": "56f8bf5ae804747c"
  },
  {
   "metadata": {
    "ExecuteTime": {
     "end_time": "2025-02-25T10:27:47.485573Z",
     "start_time": "2025-02-25T10:27:47.482043Z"
    }
   },
   "cell_type": "code",
   "source": [
    "# 多维数组\n",
    "a = np.array([[11, 12, 13, 14, 15],\n",
    "              [16, 17, 18, 19, 20],\n",
    "              [21, 22, 23, 24, 25],\n",
    "              [26, 27, 28 ,29, 30],\n",
    "              [31, 32, 33, 34, 35]])\n",
    "\n",
    "print(a[2,4])"
   ],
   "id": "29535ed866b8c85",
   "outputs": [
    {
     "name": "stdout",
     "output_type": "stream",
     "text": [
      "25\n"
     ]
    }
   ],
   "execution_count": 2
  },
  {
   "metadata": {},
   "cell_type": "markdown",
   "source": [
    "为了创建一个2D（二维）数组，我们传递一个列表的列表（或者是一个序列的序列）给array()函数。如果我们想要一个3D（三维）数组，我们就要传递一个列表的列表的列表，如果是一个4D（四维）数组，那就是列表的列表的列表的列表，以此类推。\n",
    "\n",
    "请注意2D（二维）数组（在我们的朋友空格键的帮助下）是如何按行和列排列的。要索引2D（二维）数组，我们只需引用行数和列数即可。\n",
    "\n",
    "####  它背后的一些数学知识\n",
    "要正确理解这一点，我们应该真正了解一下矢量和矩阵是什么。\n",
    "\n",
    "矢量是具有方向和幅度的量。它们通常用于表示速度，加速度和动量等事物。向量可以用多种方式编写，尽管对我们最有用的是它们被写为n元组的形式，如（1,4,6,9）。这就是我们在NumPy中表示他们的方式。\n",
    "\n",
    "矩阵类似于矢量，除了它由行和列组成; 很像一个网格。可以通过给出它所在的行和列来引用矩阵中的值。在NumPy中，我们通过传递一系列序列来制作数组，就像我们之前所做的那样。\n",
    "\n",
    "#### 多维数组切片\n",
    "切片多维数组比1D数组复杂一点，并且在使用NumPy时你也会经常需要使用到。\n"
   ],
   "id": "c6bae922ab186099"
  },
  {
   "metadata": {},
   "cell_type": "code",
   "source": [
    "# MD slicing\n",
    "print(\"-----a[0, 1:4]-----\")\n",
    "print(a[0, 1:4])\n",
    "print(\"-----a[1:4, 0]-----\")\n",
    "print(a[1:4, 0])\n",
    "print(\"-----a[::2,::2]-----\")\n",
    "print(a[::2,::2])\n",
    "print(\"-----a[:, 1]-----\")\n",
    "print(a[:, 1])"
   ],
   "id": "df44bc845d6169a2",
   "outputs": [],
   "execution_count": null
  },
  {
   "metadata": {},
   "cell_type": "code",
   "outputs": [],
   "execution_count": null,
   "source": "",
   "id": "d0f5e2b5dd6c781f"
  }
 ],
 "metadata": {
  "kernelspec": {
   "display_name": "Python_(zb-dev)",
   "language": "python",
   "name": "zb-dev"
  },
  "language_info": {
   "codemirror_mode": {
    "name": "ipython",
    "version": 2
   },
   "file_extension": ".py",
   "mimetype": "text/x-python",
   "name": "python",
   "nbconvert_exporter": "python",
   "pygments_lexer": "ipython2",
   "version": "2.7.6"
  }
 },
 "nbformat": 4,
 "nbformat_minor": 5
}
